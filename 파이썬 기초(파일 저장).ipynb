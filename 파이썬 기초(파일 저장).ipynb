{
 "cells": [
  {
   "cell_type": "code",
   "execution_count": 2,
   "metadata": {},
   "outputs": [
    {
     "name": "stdout",
     "output_type": "stream",
     "text": [
      "[ 0.06358965  1.07283721  0.05204627 -0.36729331  0.22264153]\n",
      "[]\n",
      "[ 0.06358965  1.07283721  0.05204627 -0.36729331  0.22264153]\n"
     ]
    }
   ],
   "source": [
    "#파일 저장\n",
    "import numpy as np\n",
    "\n",
    "data = np.random.randn(5)\n",
    "print(data)\n",
    "np.save('datafile.npy', data)  #저장\n",
    "data = []                      #데이터 삭제\n",
    "print(data)\n",
    "data = np.load('datafile.npy') #로드\n",
    "print(data)"
   ]
  },
  {
   "cell_type": "code",
   "execution_count": 4,
   "metadata": {},
   "outputs": [
    {
     "name": "stdout",
     "output_type": "stream",
     "text": [
      "['data1', 'data2']\n",
      "[1 2 3]\n",
      "[10 20 30]\n"
     ]
    }
   ],
   "source": [
    "#여러 ndarray형을 저장\n",
    "import numpy as np\n",
    "\n",
    "data1 = np.array([1, 2, 3])\n",
    "data2 = np.array([10, 20, 30])\n",
    "np.savez('datafile2.npz', data1 = data1, data2 = data2) #Save\n",
    "data1 = [] #Data Delete\n",
    "data2 = []\n",
    "outfile = np.load('datafile2.npz') #load\n",
    "print(outfile.files) #View Saved Data\n",
    "\n",
    "data1 = outfile['data1'] #output data1\n",
    "data2 = outfile['data2'] #output data2\n",
    "print(data1)\n",
    "print(data2)"
   ]
  }
 ],
 "metadata": {
  "kernelspec": {
   "display_name": "Python 3",
   "language": "python",
   "name": "python3"
  },
  "language_info": {
   "codemirror_mode": {
    "name": "ipython",
    "version": 3
   },
   "file_extension": ".py",
   "mimetype": "text/x-python",
   "name": "python",
   "nbconvert_exporter": "python",
   "pygments_lexer": "ipython3",
   "version": "3.7.1"
  }
 },
 "nbformat": 4,
 "nbformat_minor": 2
}
