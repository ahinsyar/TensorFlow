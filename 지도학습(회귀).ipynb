{
 "cells": [
  {
   "cell_type": "code",
   "execution_count": 9,
   "metadata": {},
   "outputs": [
    {
     "name": "stdout",
     "output_type": "stream",
     "text": [
      "[15.42555012 23.00811234  5.00285937 12.55831432  8.66889727  7.30846487\n",
      "  9.65650528 13.63901818 14.91918686 18.47041835 15.47986286 22.13048751\n",
      " 10.11130624 26.95293591  5.68468983 21.76168775]\n",
      "[170.91013145 160.67559882 129.00206616 159.70139552 155.46058905\n",
      " 140.56134369 153.65466385 159.42939554 164.70423898 169.64527574\n",
      " 160.71257522 173.28709855 159.31193249 171.51757345 138.9570433\n",
      " 165.8744074 ]\n"
     ]
    },
    {
     "data": {
      "image/png": "[encoded data removed]",
      "text/plain": [
       "<Figure size 288x288 with 1 Axes>"
      ]
     },
     "metadata": {
      "needs_background": "light"
     },
     "output_type": "display_data"
    }
   ],
   "source": [
    "#리스트 5-1-(1)\n",
    "import numpy as np\n",
    "import matplotlib.pyplot as plt\n",
    "%matplotlib inline\n",
    "\n",
    "#데이터 생성\n",
    "np.random.seed(seed=1)  #난수를 고정\n",
    "X_min = 4  #X의 하한(표시용)\n",
    "X_max = 30  #X의 상한(표시용)\n",
    "X_n = 16  #X의 상한(표시용)\n",
    "X = 5 + 25 * np.random.rand(X_n)\n",
    "Prm_c = [170, 108, 0.2]  # 생성 매개 변수\n",
    "T = Prm_c[0] - Prm_c[1] * np.exp(-Prm_c[2] * X) + 4 * np.random.randn(X_n) #(A)\n",
    "np.savez('ch5_data.npz', X=X, X_min=X_min, X_max=X_max, X_n=X_n, T=T) # B\n",
    "\n",
    "print(X)\n",
    "print(T)\n",
    "\n",
    "plt.figure(figsize=(4, 4))\n",
    "plt.plot(X, T, marker='o', linestyle='none', markeredgecolor='black', color='cornflowerblue')\n",
    "plt.xlabel(\"나이 x\", fontsize=14)\n",
    "plt.ylabel(\"키 t\", fontsize=14)\n",
    "plt.xlim(X_min, X_max)\n",
    "plt.grid(True)\n",
    "plt.show()"
   ]
  }
 ],
 "metadata": {
  "kernelspec": {
   "display_name": "Python 3",
   "language": "python",
   "name": "python3"
  },
  "language_info": {
   "codemirror_mode": {
    "name": "ipython",
    "version": 3
   },
   "file_extension": ".py",
   "mimetype": "text/x-python",
   "name": "python",
   "nbconvert_exporter": "python",
   "pygments_lexer": "ipython3",
   "version": "3.7.1"
  }
 },
 "nbformat": 4,
 "nbformat_minor": 2
}
