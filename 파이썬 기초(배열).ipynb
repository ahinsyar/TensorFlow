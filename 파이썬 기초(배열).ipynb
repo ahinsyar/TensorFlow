{
 "cells": [
  {
   "cell_type": "code",
   "execution_count": 13,
   "metadata": {},
   "outputs": [
    {
     "name": "stdout",
     "output_type": "stream",
     "text": [
      "[1, 1, 2, 3, 5]\n",
      "<class 'list'>\n",
      "<class 'int'>\n"
     ]
    }
   ],
   "source": [
    "#배열 실습\n",
    "x=[1,1,2,3,5]\n",
    "print(x)\n",
    "x[2]\n",
    "\n",
    "print(type(x))\n",
    "print(type(x[0]))"
   ]
  },
  {
   "cell_type": "code",
   "execution_count": 12,
   "metadata": {},
   "outputs": [
    {
     "name": "stdout",
     "output_type": "stream",
     "text": [
      "5\n",
      "6\n",
      "7\n",
      "8\n",
      "9\n",
      "range(5, 10)\n",
      "[5, 6, 7, 8, 9]\n"
     ]
    }
   ],
   "source": [
    "#range 실습\n",
    "y = range(5, 10)\n",
    "for i in y:\n",
    "    print(i)\n",
    "    \n",
    "print(y)\n",
    "\n",
    "z = list(range(5, 10))\n",
    "print(z)"
   ]
  },
  {
   "cell_type": "code",
   "execution_count": 19,
   "metadata": {
    "scrolled": true
   },
   "outputs": [
    {
     "name": "stdout",
     "output_type": "stream",
     "text": [
      "(1, 2, 3)\n",
      "2\n"
     ]
    },
    {
     "ename": "TypeError",
     "evalue": "'tuple' object does not support item assignment",
     "output_type": "error",
     "traceback": [
      "\u001b[1;31m---------------------------------------------------------------------------\u001b[0m",
      "\u001b[1;31mTypeError\u001b[0m                                 Traceback (most recent call last)",
      "\u001b[1;32m<ipython-input-19-0d842f7dd132>\u001b[0m in \u001b[0;36m<module>\u001b[1;34m\u001b[0m\n\u001b[0;32m      8\u001b[0m \u001b[1;33m\u001b[0m\u001b[0m\n\u001b[0;32m      9\u001b[0m \u001b[1;31m#tuple형은 요소 수정을 할 수 없음\u001b[0m\u001b[1;33m\u001b[0m\u001b[1;33m\u001b[0m\u001b[1;33m\u001b[0m\u001b[0m\n\u001b[1;32m---> 10\u001b[1;33m \u001b[0ma\u001b[0m\u001b[1;33m[\u001b[0m\u001b[1;36m1\u001b[0m\u001b[1;33m]\u001b[0m \u001b[1;33m=\u001b[0m \u001b[1;36m4\u001b[0m\u001b[1;33m\u001b[0m\u001b[1;33m\u001b[0m\u001b[0m\n\u001b[0m\u001b[0;32m     11\u001b[0m \u001b[0mprint\u001b[0m\u001b[1;33m(\u001b[0m\u001b[0ma\u001b[0m\u001b[1;33m[\u001b[0m\u001b[1;36m1\u001b[0m\u001b[1;33m]\u001b[0m\u001b[1;33m)\u001b[0m\u001b[1;33m\u001b[0m\u001b[1;33m\u001b[0m\u001b[0m\n",
      "\u001b[1;31mTypeError\u001b[0m: 'tuple' object does not support item assignment"
     ]
    }
   ],
   "source": [
    "#tuple실습\n",
    "a=(1, 2, 3)\n",
    "print(a)\n",
    "\n",
    "print(a[1])\n",
    "\n",
    "type(a)\n",
    "\n",
    "#tuple형은 요소 수정을 할 수 없음\n",
    "#a[1] = 4\n",
    "#print(a[1])"
   ]
  },
  {
   "cell_type": "code",
   "execution_count": 25,
   "metadata": {},
   "outputs": [
    {
     "name": "stdout",
     "output_type": "stream",
     "text": [
      "x is \n",
      "      larger than 10.\n",
      "x is between 10 and 20\n"
     ]
    }
   ],
   "source": [
    "#if문의 사용\n",
    "x = 11\n",
    "if x > 10:\n",
    "    print('x is ')#...(A1)\n",
    "    print('      larger than 10.')#...(A2)\n",
    "else:\n",
    "    print('x is smaller than 11')#...(B1)\n",
    "    \n",
    "x > 10\n",
    "\n",
    "type(x>10)\n",
    "\n",
    "x = 15\n",
    "if 10<=x and x<=20:\n",
    "    print('x is between 10 and 20')"
   ]
  },
  {
   "cell_type": "code",
   "execution_count": 27,
   "metadata": {},
   "outputs": [
    {
     "name": "stdout",
     "output_type": "stream",
     "text": [
      "1\n",
      "2\n",
      "3\n",
      "[4, 8, 12, 16, 20]\n"
     ]
    }
   ],
   "source": [
    "#for문의 사용\n",
    "for i in [1, 2, 3]:\n",
    "    print(i)\n",
    "    \n",
    "num = [2, 4, 6, 8, 10]\n",
    "for i in range(len(num)):\n",
    "    num[i]=num[i]*2\n",
    "    \n",
    "print(num)"
   ]
  },
  {
   "cell_type": "code",
   "execution_count": 28,
   "metadata": {},
   "outputs": [
    {
     "name": "stdout",
     "output_type": "stream",
     "text": [
      "[4, 8, 12, 16, 20]\n"
     ]
    }
   ],
   "source": [
    "#enumerate의 사용\n",
    "num = [2, 4, 6, 8, 10]\n",
    "for i, n in enumerate(num):\n",
    "    num[i] = n * 2\n",
    "    \n",
    "print(num)"
   ]
  },
  {
   "cell_type": "code",
   "execution_count": 41,
   "metadata": {
    "scrolled": true
   },
   "outputs": [
    {
     "name": "stdout",
     "output_type": "stream",
     "text": [
      "[1 2 3]\n",
      "[5 7 9]\n",
      "<class 'numpy.ndarray'>\n",
      "1\n",
      "[100   2   3]\n",
      "[0 1 2 3 4 5 6 7 8 9]\n",
      "a=[1 1]\n",
      "b=[1 1]\n",
      "a=[100   1]\n",
      "b=[100   1]\n",
      "a=[1 1]\n",
      "b=[1 1]\n",
      "a=[1 1]\n",
      "b=[100   1]\n"
     ]
    }
   ],
   "source": [
    "#numpy의 사용\n",
    "import numpy as np\n",
    "\n",
    "x = np.array([1, 2, 3])\n",
    "print(x)\n",
    "y = np.array([4, 5, 6])\n",
    "print(x+y)\n",
    "\n",
    "print(type(x))\n",
    "\n",
    "print(x[0])\n",
    "\n",
    "x[0] = 100\n",
    "print(x)\n",
    "\n",
    "print(np.arange(10))\n",
    "\n",
    "#numpy사용시 주의 사항\n",
    "a = np.array([1, 1])\n",
    "b = a#이렇게 복사할 시 a의 주소가 b에 들어가게 되어 b를 수정하게 되면 a가 같이 수정 되어 버린다.\n",
    "print('a=' + str(a))\n",
    "print('b=' + str(b))\n",
    "b[0] = 100\n",
    "print('a=' + str(a))\n",
    "print('b=' + str(b))\n",
    "\n",
    "a = np.array([1, 1])\n",
    "b = a.copy()#값을 복사하기 위해서는 copy()를 사용한다.\n",
    "print('a=' + str(a))\n",
    "print('b=' + str(b))\n",
    "b[0] = 100\n",
    "print('a=' + str(a))\n",
    "print('b=' + str(b))"
   ]
  },
  {
   "cell_type": "code",
   "execution_count": 88,
   "metadata": {
    "scrolled": true
   },
   "outputs": [
    {
     "name": "stdout",
     "output_type": "stream",
     "text": [
      "[[1 2 3]\n",
      " [4 5 6]]\n",
      "2\n",
      "3\n",
      "6\n",
      "[[  1   2   3]\n",
      " [  4   5 100]]\n",
      "[[1. 1. 1. 1. 1. 1. 1. 1. 1. 1.]\n",
      " [1. 1. 1. 1. 1. 1. 1. 1. 1. 1.]]\n",
      "[[0.44135092 0.49300247 0.80592219]\n",
      " [0.34744394 0.88956569 0.20615769]]\n",
      "[[ 0.78372297  0.27569301  0.66684438]\n",
      " [-1.00923007  2.08499014 -0.22016167]]\n",
      "[[9 7 7]\n",
      " [7 6 7]]\n",
      "[0 1 2 3 4 5 6 7 8 9]\n",
      "[[0 1 2 3 4]\n",
      " [5 6 7 8 9]]\n",
      "[[ 5  5  5]\n",
      " [10 10 10]]\n",
      "[[40 40 40]\n",
      " [80 80 80]]\n",
      "[[  54.59815003   54.59815003   54.59815003]\n",
      " [2980.95798704 2980.95798704 2980.95798704]]\n",
      "[[14 14]\n",
      " [32 32]]\n"
     ]
    }
   ],
   "source": [
    "#행렬\n",
    "import numpy as np\n",
    "x = np.array([[1, 2, 3], [4, 5, 6]])\n",
    "print(x)\n",
    "\n",
    "x.shape#행렬의 크기를 리턴 형은 tuple형\n",
    "\n",
    "w, h = x.shape\n",
    "print(w)\n",
    "print(h)\n",
    "\n",
    "print(x[1, 2])\n",
    "\n",
    "x[1, 2] = 100\n",
    "print(x)\n",
    "\n",
    "print(np.ones((2,10)))\n",
    "\n",
    "print(np.random.rand(2, 3))#난수 행렬\n",
    "print(np.random.randn(2, 3))#난수 행렬(가우스함수)\n",
    "\n",
    "print(np.random.randint(1, 10, (2, 3)))#범위 난수\n",
    "\n",
    "a = np.arange(10)\n",
    "print(a)\n",
    "\n",
    "print(a.reshape(2, 5))#전체 사이즈는 최초 생성때 사이즈를 맞춰야 함 안그럼 오류 발생\n",
    "\n",
    "#행렬 각 요소의 사칙연산\n",
    "x = np.array([[4, 4, 4], [8, 8, 8]])\n",
    "y = np.array([[1, 1, 1], [2, 2, 2]])\n",
    "print(x + y)\n",
    "\n",
    "#스칼라 곱셈\n",
    "print(10*x)\n",
    "\n",
    "#산술 함수\n",
    "x = np.array([[4, 4, 4], [8, 8, 8]])\n",
    "print(np.exp(x))\n",
    "\n",
    "#행렬 곱\n",
    "v = np.array([[1, 2, 3], [4, 5, 6]])\n",
    "w = np.array([[1, 1] ,[2, 2], [3, 3]])\n",
    "print(v.dot(w))"
   ]
  },
  {
   "cell_type": "code",
   "execution_count": 8,
   "metadata": {
    "scrolled": true
   },
   "outputs": [
    {
     "name": "stdout",
     "output_type": "stream",
     "text": [
      "[0 1 2 3 4 5 6 7 8 9]\n",
      "[0 1 2 3 4]\n",
      "[5 6 7 8 9]\n",
      "[3 4 5 6 7]\n",
      "[3 5 7]\n",
      "[9 8 7 6 5 4 3 2 1 0]\n",
      "[[1 2 3]\n",
      " [4 5 6]\n",
      " [7 8 9]]\n",
      "[[1 2]\n",
      " [4 5]]\n"
     ]
    }
   ],
   "source": [
    "#슬라이싱\n",
    "import numpy as np\n",
    "\n",
    "x = np.arange(10)\n",
    "print(x)\n",
    "print(x[:5])\n",
    "print(x[5:])\n",
    "print(x[3:8])\n",
    "print(x[3:8:2])\n",
    "print(x[::-1])\n",
    "\n",
    "#슬라이스는 1차원 이상 배열에서도 사용 가능\n",
    "y = np.array([[1, 2, 3], [4, 5, 6], [7, 8, 9]])\n",
    "print(y)\n",
    "print(y[:2, 0:2])#0~1번째배열까지 0~1까지 요소들 표시"
   ]
  },
  {
   "cell_type": "code",
   "execution_count": 12,
   "metadata": {
    "scrolled": false
   },
   "outputs": [
    {
     "name": "stdout",
     "output_type": "stream",
     "text": [
      "[False False False False  True  True  True]\n",
      "[ 5  8 13]\n",
      "[  1   1   2   3 999 999 999]\n"
     ]
    }
   ],
   "source": [
    "#조건을 만족하는 데이터의 수정\n",
    "import numpy as np\n",
    "\n",
    "x = np.array([1, 1, 2, 3, 5, 8, 13])\n",
    "print(x>3)\n",
    "print(x[x>3])\n",
    "x[x>3] = 999\n",
    "print(x)"
   ]
  },
  {
   "cell_type": "code",
   "execution_count": 13,
   "metadata": {
    "scrolled": true
   },
   "outputs": [
    {
     "name": "stdout",
     "output_type": "stream",
     "text": [
      "Help on built-in function randint:\n",
      "\n",
      "randint(...) method of mtrand.RandomState instance\n",
      "    randint(low, high=None, size=None, dtype='l')\n",
      "    \n",
      "    Return random integers from `low` (inclusive) to `high` (exclusive).\n",
      "    \n",
      "    Return random integers from the \"discrete uniform\" distribution of\n",
      "    the specified dtype in the \"half-open\" interval [`low`, `high`). If\n",
      "    `high` is None (the default), then results are from [0, `low`).\n",
      "    \n",
      "    Parameters\n",
      "    ----------\n",
      "    low : int\n",
      "        Lowest (signed) integer to be drawn from the distribution (unless\n",
      "        ``high=None``, in which case this parameter is one above the\n",
      "        *highest* such integer).\n",
      "    high : int, optional\n",
      "        If provided, one above the largest (signed) integer to be drawn\n",
      "        from the distribution (see above for behavior if ``high=None``).\n",
      "    size : int or tuple of ints, optional\n",
      "        Output shape.  If the given shape is, e.g., ``(m, n, k)``, then\n",
      "        ``m * n * k`` samples are drawn.  Default is None, in which case a\n",
      "        single value is returned.\n",
      "    dtype : dtype, optional\n",
      "        Desired dtype of the result. All dtypes are determined by their\n",
      "        name, i.e., 'int64', 'int', etc, so byteorder is not available\n",
      "        and a specific precision may have different C types depending\n",
      "        on the platform. The default value is 'np.int'.\n",
      "    \n",
      "        .. versionadded:: 1.11.0\n",
      "    \n",
      "    Returns\n",
      "    -------\n",
      "    out : int or ndarray of ints\n",
      "        `size`-shaped array of random integers from the appropriate\n",
      "        distribution, or a single such random int if `size` not provided.\n",
      "    \n",
      "    See Also\n",
      "    --------\n",
      "    random.random_integers : similar to `randint`, only for the closed\n",
      "        interval [`low`, `high`], and 1 is the lowest value if `high` is\n",
      "        omitted. In particular, this other one is the one to use to generate\n",
      "        uniformly distributed discrete non-integers.\n",
      "    \n",
      "    Examples\n",
      "    --------\n",
      "    >>> np.random.randint(2, size=10)\n",
      "    array([1, 0, 0, 0, 1, 1, 0, 0, 1, 0])\n",
      "    >>> np.random.randint(1, size=10)\n",
      "    array([0, 0, 0, 0, 0, 0, 0, 0, 0, 0])\n",
      "    \n",
      "    Generate a 2 x 4 array of ints between 0 and 4, inclusive:\n",
      "    \n",
      "    >>> np.random.randint(5, size=(2, 4))\n",
      "    array([[4, 0, 2, 1],\n",
      "           [3, 2, 2, 0]])\n",
      "\n"
     ]
    }
   ],
   "source": [
    "#Help사용 함수의 사용 방법을 표시해 준다.\n",
    "import numpy as np\n",
    "help(np.random.randint)"
   ]
  },
  {
   "cell_type": "code",
   "execution_count": 15,
   "metadata": {},
   "outputs": [
    {
     "name": "stdout",
     "output_type": "stream",
     "text": [
      "Hi!\n",
      "3\n"
     ]
    }
   ],
   "source": [
    "#함수 정의\n",
    "def my_func1():\n",
    "    print('Hi!')\n",
    "    #함수의 내용을 들여쓰기까지만 \n",
    "my_func1()#함수 실행\n",
    "\n",
    "def my_func2(a, b):\n",
    "    c = a + b\n",
    "    print(c)\n",
    "my_func2(1, 2)"
   ]
  }
 ],
 "metadata": {
  "kernelspec": {
   "display_name": "Python 3",
   "language": "python",
   "name": "python3"
  },
  "language_info": {
   "codemirror_mode": {
    "name": "ipython",
    "version": 3
   },
   "file_extension": ".py",
   "mimetype": "text/x-python",
   "name": "python",
   "nbconvert_exporter": "python",
   "pygments_lexer": "ipython3",
   "version": "3.7.1"
  }
 },
 "nbformat": 4,
 "nbformat_minor": 2
}
