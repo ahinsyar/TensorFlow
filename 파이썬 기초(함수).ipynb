{
 "cells": [
  {
   "cell_type": "code",
   "execution_count": 2,
   "metadata": {},
   "outputs": [
    {
     "name": "stdout",
     "output_type": "stream",
     "text": [
      "Hi!\n",
      "3\n",
      "mean:-0.01, std:0.96\n",
      "(-0.009554814694203915, 0.9575376053824967)\n",
      "<class 'tuple'>\n",
      "mean:-0.01, std:0.96\n"
     ]
    }
   ],
   "source": [
    "import numpy as np\n",
    "\n",
    "#함수 정의\n",
    "def my_func1():\n",
    "    print('Hi!')\n",
    "    #함수의 내용은 들여쓰기까지만 \n",
    "my_func1()#함수 실행\n",
    "\n",
    "def my_func2(a, b):\n",
    "    c = a + b\n",
    "    print(c)\n",
    "my_func2(1, 2)\n",
    "\n",
    "#함수 반환\n",
    "def my_func3(D):\n",
    "    m = np.mean(D)\n",
    "    s = np.std(D)\n",
    "    return m, s\n",
    "\n",
    "data = np.random.randn(100)\n",
    "data_mean, data_std = my_func3(data)\n",
    "print('mean:{0:3.2f}, std:{1:3.2f}'.format(data_mean, data_std))\n",
    "\n",
    "output = my_func3(data)\n",
    "print(output)\n",
    "print(type(output))\n",
    "print('mean:{0:3.2f}, std:{1:3.2f}'.format(output[0], output[1]))"
   ]
  },
  {
   "cell_type": "code",
   "execution_count": null,
   "metadata": {},
   "outputs": [],
   "source": []
  },
  {
   "cell_type": "code",
   "execution_count": null,
   "metadata": {},
   "outputs": [],
   "source": []
  }
 ],
 "metadata": {
  "kernelspec": {
   "display_name": "Python 3",
   "language": "python",
   "name": "python3"
  },
  "language_info": {
   "codemirror_mode": {
    "name": "ipython",
    "version": 3
   },
   "file_extension": ".py",
   "mimetype": "text/x-python",
   "name": "python",
   "nbconvert_exporter": "python",
   "pygments_lexer": "ipython3",
   "version": "3.7.1"
  }
 },
 "nbformat": 4,
 "nbformat_minor": 2
}
