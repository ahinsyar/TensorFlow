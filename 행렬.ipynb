{
 "cells": [
  {
   "cell_type": "code",
   "execution_count": 18,
   "metadata": {},
   "outputs": [
    {
     "name": "stdout",
     "output_type": "stream",
     "text": [
      "[[1 2 3]\n",
      " [4 5 6]]\n",
      "[[ 8 10 12]\n",
      " [14 16 18]]\n",
      "[[-6 -6 -6]\n",
      " [-6 -6 -6]]\n",
      "[[ 2  4  6]\n",
      " [ 8 10 12]]\n",
      "32\n",
      "[ 4 10 18]\n",
      "[0.25 0.4  0.5 ]\n",
      "[[ 32 -32]\n",
      " [-32  32]]\n",
      "[[1. 0. 0.]\n",
      " [0. 1. 0.]\n",
      " [0. 0. 1.]]\n",
      "[[1. 2. 3.]\n",
      " [4. 5. 6.]\n",
      " [7. 8. 9.]]\n",
      "[[-2.   1. ]\n",
      " [ 1.5 -0.5]]\n",
      "[[1.00000000e+00 1.11022302e-16]\n",
      " [0.00000000e+00 1.00000000e+00]]\n"
     ]
    }
   ],
   "source": [
    "#리스트 4-3-(1) 행렬\n",
    "import numpy as np\n",
    "\n",
    "a = np.array([[1, 2, 3,], [4, 5, 6]])\n",
    "print(a)\n",
    "\n",
    "#리스트 4-3-(2)행렬 합, 차\n",
    "b = np.array([[7, 8, 9], [10, 11, 12]])\n",
    "\n",
    "print(a+b)\n",
    "print(a-b)\n",
    "\n",
    "#리스트 4-3-(3) 스칼라 곱\n",
    "A = np.array([[1, 2, 3,], [4, 5, 6]])\n",
    "print(2*A)\n",
    "\n",
    "#리스트 4-3-(4) 행렬 곱 (백터의 내적 계산과 동일)\n",
    "A = np.array([1, 2, 3])\n",
    "B = np.array([4, 5, 6])\n",
    "print(A.dot(B))\n",
    "\n",
    "#리스트 4-3-(5) 일반적인 *, /을 사용할 경우 각 행렬의 요소를 곱셈,나눗셈을 수행한다.\n",
    "A = np.array([1, 2, 3])\n",
    "B = np.array([4, 5, 6])\n",
    "print(A*B)\n",
    "print(A/B)\n",
    "\n",
    "#리스트 4-3-(6) 2X3, 3X2 행렬 곱셈 계산\n",
    "A = np.array([[1, 2, 3], [-1, -2, -3]])\n",
    "B = np.array([[4, -4], [5, -5], [6, -6]])\n",
    "print(A.dot(B))\n",
    "\n",
    "#리스트 4-3-(7) 단위 행렬\n",
    "print(np.identity(3))\n",
    "A = np.array([[1, 2, 3], [4, 5, 6], [7, 8, 9]])\n",
    "print(A.dot(np.identity(3)))\n",
    "\n",
    "#리스트 4-3-(8) 역행렬\n",
    "A = np.array([[1, 2], [3, 4]])\n",
    "invA = np.linalg.inv(A)\n",
    "print(invA)\n",
    "print(A.dot(invA))"
   ]
  }
 ],
 "metadata": {
  "kernelspec": {
   "display_name": "Python 3",
   "language": "python",
   "name": "python3"
  },
  "language_info": {
   "codemirror_mode": {
    "name": "ipython",
    "version": 3
   },
   "file_extension": ".py",
   "mimetype": "text/x-python",
   "name": "python",
   "nbconvert_exporter": "python",
   "pygments_lexer": "ipython3",
   "version": "3.7.1"
  }
 },
 "nbformat": 4,
 "nbformat_minor": 2
}
